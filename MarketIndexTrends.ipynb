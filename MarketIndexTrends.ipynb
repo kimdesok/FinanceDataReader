{
  "nbformat": 4,
  "nbformat_minor": 0,
  "metadata": {
    "colab": {
      "name": "MarketIndexTrends.ipynb",
      "provenance": [],
      "collapsed_sections": [],
      "mount_file_id": "https://github.com/kimdesok/FinanceDataReader/blob/master/MarketIndexTrends.ipynb",
      "authorship_tag": "ABX9TyN30ZFaQBLUAVfQn5Y9fZ+1",
      "include_colab_link": true
    },
    "kernelspec": {
      "name": "python3",
      "display_name": "Python 3"
    },
    "language_info": {
      "name": "python"
    }
  },
  "cells": [
    {
      "cell_type": "markdown",
      "metadata": {
        "id": "view-in-github",
        "colab_type": "text"
      },
      "source": [
        "<a href=\"https://colab.research.google.com/github/kimdesok/FinanceDataReader/blob/master/MarketIndexTrends.ipynb\" target=\"_parent\"><img src=\"https://colab.research.google.com/assets/colab-badge.svg\" alt=\"Open In Colab\"/></a>"
      ]
    },
    {
      "cell_type": "code",
      "source": [
        "!pip install finance-dataReader==0.5.0"
      ],
      "metadata": {
        "colab": {
          "base_uri": "https://localhost:8080/"
        },
        "id": "CE4qpRS9MNJe",
        "outputId": "0235627d-084c-49d1-a06b-5632cda929f6"
      },
      "execution_count": 1,
      "outputs": [
        {
          "output_type": "stream",
          "name": "stdout",
          "text": [
            "Collecting finance-dataReader==0.5.0\n",
            "  Downloading finance_datareader-0.5.0-py3-none-any.whl (7.0 kB)\n",
            "Requirement already satisfied: requests>=2.3.0 in /usr/local/lib/python3.7/dist-packages (from finance-dataReader==0.5.0) (2.23.0)\n",
            "Collecting requests-file\n",
            "  Downloading requests_file-1.5.1-py2.py3-none-any.whl (3.7 kB)\n",
            "Requirement already satisfied: pandas>=0.19.2 in /usr/local/lib/python3.7/dist-packages (from finance-dataReader==0.5.0) (1.3.5)\n",
            "Requirement already satisfied: lxml in /usr/local/lib/python3.7/dist-packages (from finance-dataReader==0.5.0) (4.2.6)\n",
            "Requirement already satisfied: pytz>=2017.3 in /usr/local/lib/python3.7/dist-packages (from pandas>=0.19.2->finance-dataReader==0.5.0) (2018.9)\n",
            "Requirement already satisfied: python-dateutil>=2.7.3 in /usr/local/lib/python3.7/dist-packages (from pandas>=0.19.2->finance-dataReader==0.5.0) (2.8.2)\n",
            "Requirement already satisfied: numpy>=1.17.3 in /usr/local/lib/python3.7/dist-packages (from pandas>=0.19.2->finance-dataReader==0.5.0) (1.21.5)\n",
            "Requirement already satisfied: six>=1.5 in /usr/local/lib/python3.7/dist-packages (from python-dateutil>=2.7.3->pandas>=0.19.2->finance-dataReader==0.5.0) (1.15.0)\n",
            "Requirement already satisfied: urllib3!=1.25.0,!=1.25.1,<1.26,>=1.21.1 in /usr/local/lib/python3.7/dist-packages (from requests>=2.3.0->finance-dataReader==0.5.0) (1.24.3)\n",
            "Requirement already satisfied: idna<3,>=2.5 in /usr/local/lib/python3.7/dist-packages (from requests>=2.3.0->finance-dataReader==0.5.0) (2.10)\n",
            "Requirement already satisfied: certifi>=2017.4.17 in /usr/local/lib/python3.7/dist-packages (from requests>=2.3.0->finance-dataReader==0.5.0) (2021.10.8)\n",
            "Requirement already satisfied: chardet<4,>=3.0.2 in /usr/local/lib/python3.7/dist-packages (from requests>=2.3.0->finance-dataReader==0.5.0) (3.0.4)\n",
            "Installing collected packages: requests-file, finance-dataReader\n",
            "Successfully installed finance-dataReader-0.5.0 requests-file-1.5.1\n"
          ]
        }
      ]
    },
    {
      "cell_type": "code",
      "source": [
        "import FinanceDataReader as fdr\n",
        "import matplotlib.pyplot as plt\n",
        "from datetime import date\n",
        "\n",
        "plt.style.available"
      ],
      "metadata": {
        "id": "fXGvwBnJzKH-",
        "colab": {
          "base_uri": "https://localhost:8080/",
          "height": 190
        },
        "outputId": "3c0ba10b-cd23-4bdd-e99e-ddf641a9a679"
      },
      "execution_count": 2,
      "outputs": [
        {
          "output_type": "error",
          "ename": "NameError",
          "evalue": "ignored",
          "traceback": [
            "\u001b[0;31m---------------------------------------------------------------------------\u001b[0m",
            "\u001b[0;31mNameError\u001b[0m                                 Traceback (most recent call last)",
            "\u001b[0;32m<ipython-input-2-3e534f411d6e>\u001b[0m in \u001b[0;36m<module>\u001b[0;34m()\u001b[0m\n\u001b[1;32m      1\u001b[0m \u001b[0;32mimport\u001b[0m \u001b[0mFinanceDataReader\u001b[0m \u001b[0;32mas\u001b[0m \u001b[0mfdr\u001b[0m\u001b[0;34m\u001b[0m\u001b[0;34m\u001b[0m\u001b[0m\n\u001b[0;32m----> 2\u001b[0;31m \u001b[0mplt\u001b[0m\u001b[0;34m.\u001b[0m\u001b[0mstyle\u001b[0m\u001b[0;34m.\u001b[0m\u001b[0mavailable\u001b[0m\u001b[0;34m\u001b[0m\u001b[0;34m\u001b[0m\u001b[0m\n\u001b[0m",
            "\u001b[0;31mNameError\u001b[0m: name 'plt' is not defined"
          ]
        }
      ]
    },
    {
      "cell_type": "code",
      "source": [
        "\n",
        "market_list = {'Nasdaq':'IXIC','S&P500':'US500', 'Dow Jones':'DJI', 'KOSPI':'KS11', 'KOSDAQ':'KQ11', 'CSI 300': 'CSI300', 'Hangseng':'HSI'\t}\n",
        "\n",
        "for name, code in market_list.items() :\n",
        "  df = fdr.DataReader(code, start='2020', data_source='fred')\n",
        "  #df.info()\n",
        "\n",
        "  plt.figure(figsize=(10, 6))\n",
        "  h0 = df['Close'].plot()\n",
        "  Roll_Exponentional_Mean = df['Close'].ewm(50, min_periods=1).mean()\n",
        "  h1 = Roll_Exponentional_Mean.plot(color='orange', label='50 days ewm')\n",
        "  plt.ylabel('Index')\n",
        "  plt.title(name)\n",
        "  plt.legend()\n",
        "  plt.grid(True)\n",
        "  plt.show()\n"
      ],
      "metadata": {
        "id": "2gl_nbBnPsm8"
      },
      "execution_count": null,
      "outputs": []
    },
    {
      "cell_type": "code",
      "source": [
        "with plt.style.context('fivethirtyeight'):\n",
        "  plt.rcParams[\"axes.grid\"] = True\n",
        "  plt.rcParams[\"figure.figsize\"] = (12,6)\n",
        "  plt.rcParams['axes.unicode_minus'] = False\n",
        "  plt.rcParams[\"axes.formatter.limits\"] = -10000, 10000\n",
        "\n",
        "  start_date='2021-08-01'\n",
        "  highlight_date='2022-01-01'\n",
        "  end_date=date.today()\n",
        "  print(\"Displaying from\", start_date, \" to \", end_date)\n",
        "\n",
        "  for name, code in market_list.items() :\n",
        "    df = fdr.DataReader(code, start=start_date, data_source='fred')\n",
        "    df['ewm'] = df['Close'].ewm(50, min_periods=1).mean()\n",
        "    #plt.figure(figsize=(10, 6))\n",
        "    df = df[['Close','ewm']]\n",
        "    ax = df['Close'].plot(marker='o')\n",
        "    ax = ax.axvspan(highlight_date, end_date, color='orange', alpha=0.2)\n",
        "    ax1 = df['ewm'].plot(linestyle='--', label='50 days ewma')\n",
        "    \n",
        "    plt.ylabel('Index')\n",
        "    plt.title(name)\n",
        "    plt.legend()\n",
        "    plt.grid(True)\n",
        "    plt.show()"
      ],
      "metadata": {
        "id": "yom2dy7MmhTK"
      },
      "execution_count": null,
      "outputs": []
    }
  ]
}